{
  "nbformat": 4,
  "nbformat_minor": 0,
  "metadata": {
    "colab": {
      "name": "““Untitled1.ipynb”的副本”的副本",
      "provenance": [],
      "authorship_tag": "ABX9TyP3SQQ3XabG6oc1FRf4/hcl",
      "include_colab_link": true
    },
    "kernelspec": {
      "name": "python3",
      "display_name": "Python 3"
    },
    "language_info": {
      "name": "python"
    }
  },
  "cells": [
    {
      "cell_type": "markdown",
      "metadata": {
        "id": "view-in-github",
        "colab_type": "text"
      },
      "source": [
        "<a href=\"https://colab.research.google.com/github/AutoJet/ml/blob/main/TF/la-spl-nn.ipynb\" target=\"_parent\"><img src=\"https://colab.research.google.com/assets/colab-badge.svg\" alt=\"Open In Colab\"/></a>"
      ]
    },
    {
      "cell_type": "code",
      "source": [
        "%tensorflow_version 2.x\n",
        "\n",
        "import numpy as np\n",
        "import pandas as pd\n",
        "import tensorflow as tf\n",
        "from matplotlib import pyplot as plt\n",
        "plt.style.use('seaborn-whitegrid')"
      ],
      "metadata": {
        "id": "o8jraDhIah15"
      },
      "execution_count": null,
      "outputs": []
    },
    {
      "cell_type": "code",
      "source": [
        "# data\n",
        "train_df = pd.read_csv(\"https://download.mlcc.google.com/mledu-datasets/california_housing_train.csv\")\n",
        "test_df = pd.read_csv(\"https://download.mlcc.google.com/mledu-datasets/california_housing_test.csv\")\n",
        "train_df = train_df.reindex(np.random.permutation(train_df.index))\n",
        "\n",
        "train_df_mean = train_df.mean()\n",
        "train_df_std = train_df.std()\n",
        "train_df_norm = (train_df - train_df_mean)/train_df_std\n",
        "test_df_mean = test_df.mean()\n",
        "test_df_std = test_df.std()\n",
        "test_df_norm = (test_df - test_df_mean)/test_df_std\n",
        "\n",
        "threshold = 265000 \n",
        "train_df_norm[\"median_house_value_is_high\"] =(train_df[\"median_house_value\"] > threshold).astype(float)\n",
        "test_df_norm[\"median_house_value_is_high\"] = (test_df[\"median_house_value\"] > threshold).astype(float);"
      ],
      "metadata": {
        "id": "UBdSAjLqamYv"
      },
      "execution_count": null,
      "outputs": []
    },
    {
      "cell_type": "code",
      "execution_count": null,
      "metadata": {
        "id": "OBdDXr61MxbY"
      },
      "outputs": [],
      "source": [
        "# model\n",
        "learning_rate = 0.001\n",
        "classification_threshold = 0.22\n",
        "\n",
        "model = tf.keras.models.Sequential()\n",
        "feature_layer = tf.keras.layers.DenseFeatures([tf.feature_column.numeric_column(f) for f in [\"median_income\", \"total_rooms\"]])\n",
        "model.add(feature_layer)\n",
        "model.add(tf.keras.layers.Dense(units=1, input_shape=(1,), activation=tf.sigmoid))\n",
        "metrics = [\n",
        "      tf.keras.metrics.BinaryAccuracy(name='accuracy', threshold=classification_threshold),\n",
        "      tf.keras.metrics.Precision(thresholds=classification_threshold, name='precision'),\n",
        "      tf.keras.metrics.Recall(thresholds=classification_threshold, name=\"recall\")]\n",
        "model.compile(optimizer=tf.keras.optimizers.RMSprop(learning_rate=learning_rate), loss=tf.keras.losses.BinaryCrossentropy(), metrics=metrics)\n",
        "\n"
      ]
    },
    {
      "cell_type": "code",
      "source": [
        "# fitting\n",
        "epochs = 20\n",
        "batch_size = 100\n",
        "label_name = \"median_house_value_is_high\"\n",
        "\n",
        "features = {name:np.array(value) for name, value in train_df_norm.items()}\n",
        "label = np.array(features.pop(\"median_house_value_is_high\")) \n",
        "history = model.fit(x=features, y=label, batch_size=batch_size, epochs=epochs, shuffle=True);\n",
        "epochs = history.epoch\n",
        "hist = history.history"
      ],
      "metadata": {
        "colab": {
          "base_uri": "https://localhost:8080/"
        },
        "id": "4CdVlcJiaYXw",
        "outputId": "fa1ec718-e814-4c38-bbe8-14b63ac3c623"
      },
      "execution_count": null,
      "outputs": [
        {
          "output_type": "stream",
          "name": "stdout",
          "text": [
            "Epoch 1/20\n",
            "WARNING:tensorflow:Layers in a Sequential model should only have a single input tensor. Received: inputs={'longitude': <tf.Tensor 'IteratorGetNext:3' shape=(100,) dtype=float32>, 'latitude': <tf.Tensor 'IteratorGetNext:2' shape=(100,) dtype=float32>, 'housing_median_age': <tf.Tensor 'IteratorGetNext:1' shape=(100,) dtype=float32>, 'total_rooms': <tf.Tensor 'IteratorGetNext:8' shape=(100,) dtype=float32>, 'total_bedrooms': <tf.Tensor 'IteratorGetNext:7' shape=(100,) dtype=float32>, 'population': <tf.Tensor 'IteratorGetNext:6' shape=(100,) dtype=float32>, 'households': <tf.Tensor 'IteratorGetNext:0' shape=(100,) dtype=float32>, 'median_income': <tf.Tensor 'IteratorGetNext:5' shape=(100,) dtype=float32>, 'median_house_value': <tf.Tensor 'IteratorGetNext:4' shape=(100,) dtype=float32>}. Consider rewriting this model with the Functional API.\n",
            "WARNING:tensorflow:Layers in a Sequential model should only have a single input tensor. Received: inputs={'longitude': <tf.Tensor 'IteratorGetNext:3' shape=(100,) dtype=float32>, 'latitude': <tf.Tensor 'IteratorGetNext:2' shape=(100,) dtype=float32>, 'housing_median_age': <tf.Tensor 'IteratorGetNext:1' shape=(100,) dtype=float32>, 'total_rooms': <tf.Tensor 'IteratorGetNext:8' shape=(100,) dtype=float32>, 'total_bedrooms': <tf.Tensor 'IteratorGetNext:7' shape=(100,) dtype=float32>, 'population': <tf.Tensor 'IteratorGetNext:6' shape=(100,) dtype=float32>, 'households': <tf.Tensor 'IteratorGetNext:0' shape=(100,) dtype=float32>, 'median_income': <tf.Tensor 'IteratorGetNext:5' shape=(100,) dtype=float32>, 'median_house_value': <tf.Tensor 'IteratorGetNext:4' shape=(100,) dtype=float32>}. Consider rewriting this model with the Functional API.\n",
            "170/170 [==============================] - 2s 4ms/step - loss: 0.9264 - accuracy: 0.2543 - precision: 0.2238 - recall: 0.8043\n",
            "Epoch 2/20\n",
            "170/170 [==============================] - 1s 4ms/step - loss: 0.8018 - accuracy: 0.2635 - precision: 0.2323 - recall: 0.8453\n",
            "Epoch 3/20\n",
            "170/170 [==============================] - 1s 7ms/step - loss: 0.6967 - accuracy: 0.2732 - precision: 0.2412 - recall: 0.8893\n",
            "Epoch 4/20\n",
            "170/170 [==============================] - 1s 4ms/step - loss: 0.6109 - accuracy: 0.2810 - precision: 0.2478 - recall: 0.9228\n",
            "Epoch 5/20\n",
            "170/170 [==============================] - 0s 3ms/step - loss: 0.5440 - accuracy: 0.2916 - precision: 0.2539 - recall: 0.9466\n",
            "Epoch 6/20\n",
            "170/170 [==============================] - 0s 2ms/step - loss: 0.4942 - accuracy: 0.3864 - precision: 0.2829 - recall: 0.9489\n",
            "Epoch 7/20\n",
            "170/170 [==============================] - 0s 2ms/step - loss: 0.4595 - accuracy: 0.5732 - precision: 0.3599 - recall: 0.9101\n",
            "Epoch 8/20\n",
            "170/170 [==============================] - 0s 2ms/step - loss: 0.4368 - accuracy: 0.6553 - precision: 0.4095 - recall: 0.8590\n",
            "Epoch 9/20\n",
            "170/170 [==============================] - 0s 2ms/step - loss: 0.4223 - accuracy: 0.6921 - precision: 0.4380 - recall: 0.8215\n",
            "Epoch 10/20\n",
            "170/170 [==============================] - 0s 2ms/step - loss: 0.4128 - accuracy: 0.7118 - precision: 0.4563 - recall: 0.8027\n",
            "Epoch 11/20\n",
            "170/170 [==============================] - 0s 3ms/step - loss: 0.4063 - accuracy: 0.7205 - precision: 0.4651 - recall: 0.7904\n",
            "Epoch 12/20\n",
            "170/170 [==============================] - 0s 2ms/step - loss: 0.4020 - accuracy: 0.7274 - precision: 0.4724 - recall: 0.7789\n",
            "Epoch 13/20\n",
            "170/170 [==============================] - 0s 2ms/step - loss: 0.3994 - accuracy: 0.7322 - precision: 0.4777 - recall: 0.7695\n",
            "Epoch 14/20\n",
            "170/170 [==============================] - 0s 2ms/step - loss: 0.3981 - accuracy: 0.7352 - precision: 0.4812 - recall: 0.7648\n",
            "Epoch 15/20\n",
            "170/170 [==============================] - 0s 2ms/step - loss: 0.3974 - accuracy: 0.7361 - precision: 0.4822 - recall: 0.7615\n",
            "Epoch 16/20\n",
            "170/170 [==============================] - 0s 2ms/step - loss: 0.3970 - accuracy: 0.7398 - precision: 0.4866 - recall: 0.7575\n",
            "Epoch 17/20\n",
            "170/170 [==============================] - 0s 2ms/step - loss: 0.3968 - accuracy: 0.7406 - precision: 0.4876 - recall: 0.7544\n",
            "Epoch 18/20\n",
            "170/170 [==============================] - 0s 2ms/step - loss: 0.3967 - accuracy: 0.7441 - precision: 0.4920 - recall: 0.7502\n",
            "Epoch 19/20\n",
            "170/170 [==============================] - 0s 2ms/step - loss: 0.3967 - accuracy: 0.7444 - precision: 0.4923 - recall: 0.7488\n",
            "Epoch 20/20\n",
            "170/170 [==============================] - 0s 2ms/step - loss: 0.3966 - accuracy: 0.7467 - precision: 0.4954 - recall: 0.7471\n"
          ]
        }
      ]
    },
    {
      "cell_type": "code",
      "source": [
        "ax = plt.axes()\n",
        "for k, v in hist.items():\n",
        "  ax.plot(epochs, v, label=k)\n",
        "ax.legend(loc='lower right', frameon=False);"
      ],
      "metadata": {
        "colab": {
          "base_uri": "https://localhost:8080/",
          "height": 265
        },
        "id": "x4gteqktctYU",
        "outputId": "ae02cfad-08b7-406c-a375-ca501395ec86"
      },
      "execution_count": null,
      "outputs": [
        {
          "output_type": "display_data",
          "data": {
            "text/plain": [
              "<Figure size 432x288 with 1 Axes>"
            ],
            "image/png": "[encoded data removed]"
          },
          "metadata": {
            "needs_background": "light"
          }
        }
      ]
    },
    {
      "cell_type": "code",
      "source": [
        "# evaluating\n",
        "test_features = {name:np.array(value) for name, value in test_df_norm.items()}\n",
        "test_label = np.array(test_features.pop(\"median_house_value_is_high\"))\n",
        "model.evaluate(x = features, y = label, batch_size=batch_size)"
      ],
      "metadata": {
        "colab": {
          "base_uri": "https://localhost:8080/"
        },
        "id": "9x9fhsR_aZMl",
        "outputId": "64d0ed92-4546-4f5e-ddc4-fffa0cf89ef2"
      },
      "execution_count": null,
      "outputs": [
        {
          "output_type": "stream",
          "name": "stdout",
          "text": [
            "WARNING:tensorflow:Layers in a Sequential model should only have a single input tensor. Received: inputs={'longitude': <tf.Tensor 'IteratorGetNext:3' shape=(100,) dtype=float32>, 'latitude': <tf.Tensor 'IteratorGetNext:2' shape=(100,) dtype=float32>, 'housing_median_age': <tf.Tensor 'IteratorGetNext:1' shape=(100,) dtype=float32>, 'total_rooms': <tf.Tensor 'IteratorGetNext:8' shape=(100,) dtype=float32>, 'total_bedrooms': <tf.Tensor 'IteratorGetNext:7' shape=(100,) dtype=float32>, 'population': <tf.Tensor 'IteratorGetNext:6' shape=(100,) dtype=float32>, 'households': <tf.Tensor 'IteratorGetNext:0' shape=(100,) dtype=float32>, 'median_income': <tf.Tensor 'IteratorGetNext:5' shape=(100,) dtype=float32>, 'median_house_value': <tf.Tensor 'IteratorGetNext:4' shape=(100,) dtype=float32>}. Consider rewriting this model with the Functional API.\n",
            "170/170 [==============================] - 1s 2ms/step - loss: 0.3966 - accuracy: 0.8096 - precision: 0.6203 - recall: 0.6138\n"
          ]
        },
        {
          "output_type": "execute_result",
          "data": {
            "text/plain": [
              "[0.39657413959503174,\n",
              " 0.8096470832824707,\n",
              " 0.6202712059020996,\n",
              " 0.6138450503349304]"
            ]
          },
          "metadata": {},
          "execution_count": 8
        }
      ]
    },
    {
      "cell_type": "code",
      "source": [
        ""
      ],
      "metadata": {
        "id": "0-m6fY9laZTf"
      },
      "execution_count": null,
      "outputs": []
    },
    {
      "cell_type": "code",
      "source": [
        ""
      ],
      "metadata": {
        "id": "lV7l_dxnaZnu"
      },
      "execution_count": null,
      "outputs": []
    }
  ]
}